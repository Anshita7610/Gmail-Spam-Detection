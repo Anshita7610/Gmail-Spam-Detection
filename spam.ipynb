{
  "nbformat": 4,
  "nbformat_minor": 0,
  "metadata": {
    "colab": {
      "name": "Untitled1.ipynb",
      "provenance": []
    },
    "kernelspec": {
      "name": "python3",
      "display_name": "Python 3"
    },
    "language_info": {
      "name": "python"
    }
  },
  "cells": [
    {
      "cell_type": "code",
      "metadata": {
        "colab": {
          "base_uri": "https://localhost:8080/"
        },
        "id": "9hg0XsIivlS6",
        "outputId": "37eeb4fb-fd4f-4d44-87df-e5a7e1613a3c"
      },
      "source": [
        "pip install nltk"
      ],
      "execution_count": 1,
      "outputs": [
        {
          "output_type": "stream",
          "text": [
            "Requirement already satisfied: nltk in /usr/local/lib/python3.7/dist-packages (3.2.5)\n",
            "Requirement already satisfied: six in /usr/local/lib/python3.7/dist-packages (from nltk) (1.15.0)\n"
          ],
          "name": "stdout"
        }
      ]
    },
    {
      "cell_type": "code",
      "metadata": {
        "id": "7VSFEoX6v1m-"
      },
      "source": [
        "import nltk"
      ],
      "execution_count": 2,
      "outputs": []
    },
    {
      "cell_type": "code",
      "metadata": {
        "colab": {
          "base_uri": "https://localhost:8080/"
        },
        "id": "G1iy-C5cv7RX",
        "outputId": "e40d3646-20fb-44a6-e913-3be9eb81f3c2"
      },
      "source": [
        "nltk.download('wordnet')"
      ],
      "execution_count": 3,
      "outputs": [
        {
          "output_type": "stream",
          "text": [
            "[nltk_data] Downloading package wordnet to /root/nltk_data...\n",
            "[nltk_data]   Unzipping corpora/wordnet.zip.\n"
          ],
          "name": "stdout"
        },
        {
          "output_type": "execute_result",
          "data": {
            "text/plain": [
              "True"
            ]
          },
          "metadata": {
            "tags": []
          },
          "execution_count": 3
        }
      ]
    },
    {
      "cell_type": "code",
      "metadata": {
        "id": "BfUcVwQIwjh2"
      },
      "source": [
        "import pandas as pd"
      ],
      "execution_count": 5,
      "outputs": []
    },
    {
      "cell_type": "code",
      "metadata": {
        "id": "FS12HnyqxeQA"
      },
      "source": [
        "dt = pd.read_csv(\"spam.csv\" , encoding = 'Windows-1252')"
      ],
      "execution_count": 7,
      "outputs": []
    },
    {
      "cell_type": "code",
      "metadata": {
        "id": "gQ-Ufv2Px41d",
        "outputId": "7f5b3140-af48-4854-f052-9bea2de186c3",
        "colab": {
          "base_uri": "https://localhost:8080/"
        }
      },
      "source": [
        "import chardet\n",
        "with open(\"spam.csv\" , 'rb') as rawdata:\n",
        "   result = chardet.detect(rawdata.read(100000))\n",
        "result"
      ],
      "execution_count": 9,
      "outputs": [
        {
          "output_type": "execute_result",
          "data": {
            "text/plain": [
              "{'confidence': 0.73, 'encoding': 'Windows-1252', 'language': ''}"
            ]
          },
          "metadata": {
            "tags": []
          },
          "execution_count": 9
        }
      ]
    },
    {
      "cell_type": "code",
      "metadata": {
        "id": "5RPImxXXytQj",
        "outputId": "ee29a3bb-e532-446e-e2b1-93a31e225af8",
        "colab": {
          "base_uri": "https://localhost:8080/",
          "height": 203
        }
      },
      "source": [
        "dt.head()"
      ],
      "execution_count": 10,
      "outputs": [
        {
          "output_type": "execute_result",
          "data": {
            "text/html": [
              "<div>\n",
              "<style scoped>\n",
              "    .dataframe tbody tr th:only-of-type {\n",
              "        vertical-align: middle;\n",
              "    }\n",
              "\n",
              "    .dataframe tbody tr th {\n",
              "        vertical-align: top;\n",
              "    }\n",
              "\n",
              "    .dataframe thead th {\n",
              "        text-align: right;\n",
              "    }\n",
              "</style>\n",
              "<table border=\"1\" class=\"dataframe\">\n",
              "  <thead>\n",
              "    <tr style=\"text-align: right;\">\n",
              "      <th></th>\n",
              "      <th>type</th>\n",
              "      <th>text</th>\n",
              "    </tr>\n",
              "  </thead>\n",
              "  <tbody>\n",
              "    <tr>\n",
              "      <th>0</th>\n",
              "      <td>ham</td>\n",
              "      <td>Go until jurong point, crazy.. Available only ...</td>\n",
              "    </tr>\n",
              "    <tr>\n",
              "      <th>1</th>\n",
              "      <td>ham</td>\n",
              "      <td>Ok lar... Joking wif u oni...</td>\n",
              "    </tr>\n",
              "    <tr>\n",
              "      <th>2</th>\n",
              "      <td>spam</td>\n",
              "      <td>Free entry in 2 a wkly comp to win FA Cup fina...</td>\n",
              "    </tr>\n",
              "    <tr>\n",
              "      <th>3</th>\n",
              "      <td>ham</td>\n",
              "      <td>U dun say so early hor... U c already then say...</td>\n",
              "    </tr>\n",
              "    <tr>\n",
              "      <th>4</th>\n",
              "      <td>ham</td>\n",
              "      <td>Nah I don't think he goes to usf, he lives aro...</td>\n",
              "    </tr>\n",
              "  </tbody>\n",
              "</table>\n",
              "</div>"
            ],
            "text/plain": [
              "   type                                               text\n",
              "0   ham  Go until jurong point, crazy.. Available only ...\n",
              "1   ham                      Ok lar... Joking wif u oni...\n",
              "2  spam  Free entry in 2 a wkly comp to win FA Cup fina...\n",
              "3   ham  U dun say so early hor... U c already then say...\n",
              "4   ham  Nah I don't think he goes to usf, he lives aro..."
            ]
          },
          "metadata": {
            "tags": []
          },
          "execution_count": 10
        }
      ]
    },
    {
      "cell_type": "code",
      "metadata": {
        "id": "--J5jcAgy3rH"
      },
      "source": [
        "dt['spam'] = dt['type'].map({'spam' : 1 , 'ham' : 0}).astype(int)"
      ],
      "execution_count": 11,
      "outputs": []
    },
    {
      "cell_type": "code",
      "metadata": {
        "id": "_Ha9m7yuzQmY",
        "outputId": "9fa5859e-4a26-46cd-977a-77a2c4db4acd",
        "colab": {
          "base_uri": "https://localhost:8080/",
          "height": 173
        }
      },
      "source": [
        "dt.head(4)"
      ],
      "execution_count": 12,
      "outputs": [
        {
          "output_type": "execute_result",
          "data": {
            "text/html": [
              "<div>\n",
              "<style scoped>\n",
              "    .dataframe tbody tr th:only-of-type {\n",
              "        vertical-align: middle;\n",
              "    }\n",
              "\n",
              "    .dataframe tbody tr th {\n",
              "        vertical-align: top;\n",
              "    }\n",
              "\n",
              "    .dataframe thead th {\n",
              "        text-align: right;\n",
              "    }\n",
              "</style>\n",
              "<table border=\"1\" class=\"dataframe\">\n",
              "  <thead>\n",
              "    <tr style=\"text-align: right;\">\n",
              "      <th></th>\n",
              "      <th>type</th>\n",
              "      <th>text</th>\n",
              "      <th>spam</th>\n",
              "    </tr>\n",
              "  </thead>\n",
              "  <tbody>\n",
              "    <tr>\n",
              "      <th>0</th>\n",
              "      <td>ham</td>\n",
              "      <td>Go until jurong point, crazy.. Available only ...</td>\n",
              "      <td>0</td>\n",
              "    </tr>\n",
              "    <tr>\n",
              "      <th>1</th>\n",
              "      <td>ham</td>\n",
              "      <td>Ok lar... Joking wif u oni...</td>\n",
              "      <td>0</td>\n",
              "    </tr>\n",
              "    <tr>\n",
              "      <th>2</th>\n",
              "      <td>spam</td>\n",
              "      <td>Free entry in 2 a wkly comp to win FA Cup fina...</td>\n",
              "      <td>1</td>\n",
              "    </tr>\n",
              "    <tr>\n",
              "      <th>3</th>\n",
              "      <td>ham</td>\n",
              "      <td>U dun say so early hor... U c already then say...</td>\n",
              "      <td>0</td>\n",
              "    </tr>\n",
              "  </tbody>\n",
              "</table>\n",
              "</div>"
            ],
            "text/plain": [
              "   type                                               text  spam\n",
              "0   ham  Go until jurong point, crazy.. Available only ...     0\n",
              "1   ham                      Ok lar... Joking wif u oni...     0\n",
              "2  spam  Free entry in 2 a wkly comp to win FA Cup fina...     1\n",
              "3   ham  U dun say so early hor... U c already then say...     0"
            ]
          },
          "metadata": {
            "tags": []
          },
          "execution_count": 12
        }
      ]
    },
    {
      "cell_type": "code",
      "metadata": {
        "id": "8Tv4ZL_q4n0_",
        "outputId": "eb914209-b3db-42c1-902d-e72b799f2203",
        "colab": {
          "base_uri": "https://localhost:8080/"
        }
      },
      "source": [
        "t = len(dt['type'])\n",
        "print(\"NO OF ROWS IN REVIEW COLUMN:\",t)"
      ],
      "execution_count": 15,
      "outputs": [
        {
          "output_type": "stream",
          "text": [
            "NO OF ROWS IN REVIEW COLUMN: 116\n"
          ],
          "name": "stdout"
        }
      ]
    },
    {
      "cell_type": "code",
      "metadata": {
        "id": "vCz3SzBk7kdl",
        "outputId": "cfac9d2f-fdb3-48a4-f84d-8d0dc0b307bb",
        "colab": {
          "base_uri": "https://localhost:8080/",
          "height": 53
        }
      },
      "source": [
        "dt['text'][2]"
      ],
      "execution_count": 16,
      "outputs": [
        {
          "output_type": "execute_result",
          "data": {
            "application/vnd.google.colaboratory.intrinsic+json": {
              "type": "string"
            },
            "text/plain": [
              "\"Free entry in 2 a wkly comp to win FA Cup final tkts 21st May 2005. Text FA to 87121 to receive entry question(std txt rate)T&C's apply 08452810075over18's\""
            ]
          },
          "metadata": {
            "tags": []
          },
          "execution_count": 16
        }
      ]
    },
    {
      "cell_type": "code",
      "metadata": {
        "id": "THALSKJ97_TB"
      },
      "source": [
        "def tokenizer(text):\n",
        "  return text.split()"
      ],
      "execution_count": 17,
      "outputs": []
    },
    {
      "cell_type": "code",
      "metadata": {
        "id": "n-S2LNj58Ofl"
      },
      "source": [
        "dt['text'] = dt['text'].apply(tokenizer)"
      ],
      "execution_count": 18,
      "outputs": []
    },
    {
      "cell_type": "code",
      "metadata": {
        "id": "7wqFFxPx8OhL",
        "outputId": "a4cb4823-0cde-4d78-b1c9-4f248181f30f",
        "colab": {
          "base_uri": "https://localhost:8080/"
        }
      },
      "source": [
        "dt['text'][2]"
      ],
      "execution_count": 19,
      "outputs": [
        {
          "output_type": "execute_result",
          "data": {
            "text/plain": [
              "['Free',\n",
              " 'entry',\n",
              " 'in',\n",
              " '2',\n",
              " 'a',\n",
              " 'wkly',\n",
              " 'comp',\n",
              " 'to',\n",
              " 'win',\n",
              " 'FA',\n",
              " 'Cup',\n",
              " 'final',\n",
              " 'tkts',\n",
              " '21st',\n",
              " 'May',\n",
              " '2005.',\n",
              " 'Text',\n",
              " 'FA',\n",
              " 'to',\n",
              " '87121',\n",
              " 'to',\n",
              " 'receive',\n",
              " 'entry',\n",
              " 'question(std',\n",
              " 'txt',\n",
              " \"rate)T&C's\",\n",
              " 'apply',\n",
              " \"08452810075over18's\"]"
            ]
          },
          "metadata": {
            "tags": []
          },
          "execution_count": 19
        }
      ]
    },
    {
      "cell_type": "code",
      "metadata": {
        "id": "uBx-2Q7x8muE"
      },
      "source": [
        "from nltk.stem.snowball import SnowballStemmer\n",
        "porter = SnowballStemmer(\"english\" , ignore_stopwords = False)"
      ],
      "execution_count": 21,
      "outputs": []
    },
    {
      "cell_type": "code",
      "metadata": {
        "id": "KArlXf4e8orH"
      },
      "source": [
        "def stem_it(text):\n",
        "  return [porter.stem(word) for word in text]"
      ],
      "execution_count": 22,
      "outputs": []
    },
    {
      "cell_type": "code",
      "metadata": {
        "id": "49TOHV4J8os5"
      },
      "source": [
        "dt['text'] = dt['text'].apply(stem_it)"
      ],
      "execution_count": 39,
      "outputs": []
    },
    {
      "cell_type": "code",
      "metadata": {
        "id": "O2OFUHdI8owu",
        "outputId": "b2b9d7dc-33fc-40a9-d7c3-51ee2dd301b5",
        "colab": {
          "base_uri": "https://localhost:8080/"
        }
      },
      "source": [
        "dt['text'][2]"
      ],
      "execution_count": 24,
      "outputs": [
        {
          "output_type": "execute_result",
          "data": {
            "text/plain": [
              "['free',\n",
              " 'entri',\n",
              " 'in',\n",
              " '2',\n",
              " 'a',\n",
              " 'wkli',\n",
              " 'comp',\n",
              " 'to',\n",
              " 'win',\n",
              " 'fa',\n",
              " 'cup',\n",
              " 'final',\n",
              " 'tkts',\n",
              " '21st',\n",
              " 'may',\n",
              " '2005.',\n",
              " 'text',\n",
              " 'fa',\n",
              " 'to',\n",
              " '87121',\n",
              " 'to',\n",
              " 'receiv',\n",
              " 'entri',\n",
              " 'question(std',\n",
              " 'txt',\n",
              " 'rate)t&c',\n",
              " 'appli',\n",
              " '08452810075over18']"
            ]
          },
          "metadata": {
            "tags": []
          },
          "execution_count": 24
        }
      ]
    },
    {
      "cell_type": "code",
      "metadata": {
        "id": "_SMKbVYK8oyR"
      },
      "source": [
        "from nltk.stem import WordNetLemmatizer\n",
        "lemmatizer = WordNetLemmatizer()"
      ],
      "execution_count": 25,
      "outputs": []
    },
    {
      "cell_type": "code",
      "metadata": {
        "id": "s0ENoZQC-u7e"
      },
      "source": [
        "def lemmit_it(text):\n",
        "  return [lemmatizer.lemmatize(word , pos = 'a') for word in text]"
      ],
      "execution_count": 26,
      "outputs": []
    },
    {
      "cell_type": "code",
      "metadata": {
        "id": "2fbtR0ot-vec"
      },
      "source": [
        "dt['text'] = dt['text'].apply(lemmit_it)"
      ],
      "execution_count": 32,
      "outputs": []
    },
    {
      "cell_type": "code",
      "metadata": {
        "id": "ZTPBpbOW-vgA",
        "outputId": "022d77d0-37b0-4c2c-f952-984d9f90e940",
        "colab": {
          "base_uri": "https://localhost:8080/"
        }
      },
      "source": [
        "dt['text'][2]"
      ],
      "execution_count": 28,
      "outputs": [
        {
          "output_type": "execute_result",
          "data": {
            "text/plain": [
              "['free',\n",
              " 'entri',\n",
              " 'in',\n",
              " '2',\n",
              " 'a',\n",
              " 'wkli',\n",
              " 'comp',\n",
              " 'to',\n",
              " 'win',\n",
              " 'fa',\n",
              " 'cup',\n",
              " 'final',\n",
              " 'tkts',\n",
              " '21st',\n",
              " 'may',\n",
              " '2005.',\n",
              " 'text',\n",
              " 'fa',\n",
              " 'to',\n",
              " '87121',\n",
              " 'to',\n",
              " 'receiv',\n",
              " 'entri',\n",
              " 'question(std',\n",
              " 'txt',\n",
              " 'rate)t&c',\n",
              " 'appli',\n",
              " '08452810075over18']"
            ]
          },
          "metadata": {
            "tags": []
          },
          "execution_count": 28
        }
      ]
    },
    {
      "cell_type": "code",
      "metadata": {
        "id": "EH2GezryALGn"
      },
      "source": [
        "from nltk.corpus import  stopwords\n",
        "stop_words = stopwords.words(\"english\")"
      ],
      "execution_count": 41,
      "outputs": []
    },
    {
      "cell_type": "code",
      "metadata": {
        "colab": {
          "base_uri": "https://localhost:8080/"
        },
        "id": "zUAnPzbp_g8n",
        "outputId": "bd875ee7-bfc3-47b4-c6df-7240f3786bc6"
      },
      "source": [
        "nltk.download('stopwords')"
      ],
      "execution_count": 40,
      "outputs": [
        {
          "output_type": "stream",
          "text": [
            "[nltk_data] Downloading package stopwords to /root/nltk_data...\n",
            "[nltk_data]   Package stopwords is already up-to-date!\n"
          ],
          "name": "stdout"
        },
        {
          "output_type": "execute_result",
          "data": {
            "text/plain": [
              "True"
            ]
          },
          "metadata": {
            "tags": []
          },
          "execution_count": 40
        }
      ]
    },
    {
      "cell_type": "code",
      "metadata": {
        "id": "s6g_FvM6AK4a"
      },
      "source": [
        "def stop_it(text):\n",
        "  review = [word for word in text if not word in stop_words]\n",
        "  return review"
      ],
      "execution_count": 31,
      "outputs": []
    },
    {
      "cell_type": "code",
      "metadata": {
        "id": "PsT-zoZqAK6G"
      },
      "source": [
        "dt['text'] = dt['text'].apply(stop_it)"
      ],
      "execution_count": 42,
      "outputs": []
    },
    {
      "cell_type": "code",
      "metadata": {
        "id": "7462r93yDoX4",
        "outputId": "befae4cd-7ea5-4aa1-fc83-5d43f34ad440",
        "colab": {
          "base_uri": "https://localhost:8080/"
        }
      },
      "source": [
        "dt['text'][2]"
      ],
      "execution_count": 43,
      "outputs": [
        {
          "output_type": "execute_result",
          "data": {
            "text/plain": [
              "['free',\n",
              " 'entri',\n",
              " '2',\n",
              " 'wkli',\n",
              " 'comp',\n",
              " 'win',\n",
              " 'fa',\n",
              " 'cup',\n",
              " 'final',\n",
              " 'tkts',\n",
              " '21st',\n",
              " 'may',\n",
              " '2005.',\n",
              " 'text',\n",
              " 'fa',\n",
              " '87121',\n",
              " 'receiv',\n",
              " 'entri',\n",
              " 'question(std',\n",
              " 'txt',\n",
              " 'rate)t&c',\n",
              " 'appli',\n",
              " '08452810075over18']"
            ]
          },
          "metadata": {
            "tags": []
          },
          "execution_count": 43
        }
      ]
    },
    {
      "cell_type": "code",
      "metadata": {
        "id": "9g1KjhDvDoZd",
        "outputId": "b6038267-76aa-49c3-ef8b-abf084aefef1",
        "colab": {
          "base_uri": "https://localhost:8080/",
          "height": 204
        }
      },
      "source": [
        "dt.head()"
      ],
      "execution_count": 44,
      "outputs": [
        {
          "output_type": "execute_result",
          "data": {
            "text/html": [
              "<div>\n",
              "<style scoped>\n",
              "    .dataframe tbody tr th:only-of-type {\n",
              "        vertical-align: middle;\n",
              "    }\n",
              "\n",
              "    .dataframe tbody tr th {\n",
              "        vertical-align: top;\n",
              "    }\n",
              "\n",
              "    .dataframe thead th {\n",
              "        text-align: right;\n",
              "    }\n",
              "</style>\n",
              "<table border=\"1\" class=\"dataframe\">\n",
              "  <thead>\n",
              "    <tr style=\"text-align: right;\">\n",
              "      <th></th>\n",
              "      <th>type</th>\n",
              "      <th>text</th>\n",
              "      <th>spam</th>\n",
              "    </tr>\n",
              "  </thead>\n",
              "  <tbody>\n",
              "    <tr>\n",
              "      <th>0</th>\n",
              "      <td>ham</td>\n",
              "      <td>[go, jurong, point,, crazy.., avail, bugi, n, ...</td>\n",
              "      <td>0</td>\n",
              "    </tr>\n",
              "    <tr>\n",
              "      <th>1</th>\n",
              "      <td>ham</td>\n",
              "      <td>[ok, lar..., joke, wif, u, oni...]</td>\n",
              "      <td>0</td>\n",
              "    </tr>\n",
              "    <tr>\n",
              "      <th>2</th>\n",
              "      <td>spam</td>\n",
              "      <td>[free, entri, 2, wkli, comp, win, fa, cup, fin...</td>\n",
              "      <td>1</td>\n",
              "    </tr>\n",
              "    <tr>\n",
              "      <th>3</th>\n",
              "      <td>ham</td>\n",
              "      <td>[u, dun, say, ear, hor..., u, c, alreadi, say...]</td>\n",
              "      <td>0</td>\n",
              "    </tr>\n",
              "    <tr>\n",
              "      <th>4</th>\n",
              "      <td>ham</td>\n",
              "      <td>[nah, think, goe, usf,, live, around, though]</td>\n",
              "      <td>0</td>\n",
              "    </tr>\n",
              "  </tbody>\n",
              "</table>\n",
              "</div>"
            ],
            "text/plain": [
              "   type                                               text  spam\n",
              "0   ham  [go, jurong, point,, crazy.., avail, bugi, n, ...     0\n",
              "1   ham                 [ok, lar..., joke, wif, u, oni...]     0\n",
              "2  spam  [free, entri, 2, wkli, comp, win, fa, cup, fin...     1\n",
              "3   ham  [u, dun, say, ear, hor..., u, c, alreadi, say...]     0\n",
              "4   ham      [nah, think, goe, usf,, live, around, though]     0"
            ]
          },
          "metadata": {
            "tags": []
          },
          "execution_count": 44
        }
      ]
    },
    {
      "cell_type": "code",
      "metadata": {
        "id": "V0e0AytRDofk"
      },
      "source": [
        "dt['text'] = dt['text'].apply(' '.join)"
      ],
      "execution_count": 47,
      "outputs": []
    },
    {
      "cell_type": "code",
      "metadata": {
        "id": "S7KMLQCUF9Ba"
      },
      "source": [
        "from sklearn.feature_extraction.text import TfidfVectorizer\n",
        "tfidf = TfidfVectorizer()\n",
        "y = dt.spam.values\n",
        "x = tfidf.fit_transform(dt['text'])"
      ],
      "execution_count": 48,
      "outputs": []
    },
    {
      "cell_type": "code",
      "metadata": {
        "id": "RZao-B_TF9DL",
        "outputId": "ee12f6e7-b7d9-471d-f501-cca6ed313e33",
        "colab": {
          "base_uri": "https://localhost:8080/"
        }
      },
      "source": [
        "x"
      ],
      "execution_count": 49,
      "outputs": [
        {
          "output_type": "execute_result",
          "data": {
            "text/plain": [
              "<116x711 sparse matrix of type '<class 'numpy.float64'>'\n",
              "\twith 1077 stored elements in Compressed Sparse Row format>"
            ]
          },
          "metadata": {
            "tags": []
          },
          "execution_count": 49
        }
      ]
    },
    {
      "cell_type": "code",
      "metadata": {
        "id": "ec7Pz-GhF9Hr"
      },
      "source": [
        "from sklearn.model_selection import train_test_split\n",
        "x_train,x_text,y_train,y_text = train_test_split(x,y,random_state = 1,test_size = 0.2, shuffle = False)"
      ],
      "execution_count": 50,
      "outputs": []
    },
    {
      "cell_type": "code",
      "metadata": {
        "id": "L3vuzpwcHN5E"
      },
      "source": [
        "from sklearn.linear_model import LogisticRegression\n",
        "clf = LogisticRegression()\n",
        "clf.fit(x_train,y_train)\n",
        "y_pred=clf.predict(x_text)"
      ],
      "execution_count": 52,
      "outputs": []
    },
    {
      "cell_type": "code",
      "metadata": {
        "id": "dltKIG42HO1y",
        "outputId": "00dd7282-46ef-42f9-a4df-58b66a568c4c",
        "colab": {
          "base_uri": "https://localhost:8080/"
        }
      },
      "source": [
        "from sklearn.metrics import accuracy_score\n",
        "acc_log = accuracy_score(y_pred, y_text)*100\n",
        "print(\"accuracy:\",acc_log)"
      ],
      "execution_count": 53,
      "outputs": [
        {
          "output_type": "stream",
          "text": [
            "accuracy: 87.5\n"
          ],
          "name": "stdout"
        }
      ]
    },
    {
      "cell_type": "code",
      "metadata": {
        "id": "PO3vCLVVHO3o"
      },
      "source": [
        ""
      ],
      "execution_count": null,
      "outputs": []
    },
    {
      "cell_type": "code",
      "metadata": {
        "id": "lamOvPrKHO7-"
      },
      "source": [
        ""
      ],
      "execution_count": null,
      "outputs": []
    }
  ]
}